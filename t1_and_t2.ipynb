{
 "cells": [
  {
   "cell_type": "markdown",
   "metadata": {},
   "source": [
    "Quantum DS Test Task"
   ]
  },
  {
   "cell_type": "markdown",
   "metadata": {},
   "source": [
    "Task 1. What is FOR loop?"
   ]
  },
  {
   "cell_type": "code",
   "execution_count": 11,
   "metadata": {},
   "outputs": [
    {
     "name": "stdout",
     "output_type": "stream",
     "text": [
      "This program calculates the sum in range 1 and N. \n",
      "5000050000\n"
     ]
    }
   ],
   "source": [
    "print(\"This program calculates the sum in range 1 and N. \")\n",
    "\n",
    "# In Python3 int has no max limit\n",
    "N = 100000\n",
    "\n",
    "# Becaues program has to execute fast also for big inputs, we use a mathematical formula to compute a sum of first  N natural numbers\n",
    "output = (N * (N + 1) // 2)\n",
    "print(output)\n"
   ]
  },
  {
   "cell_type": "markdown",
   "metadata": {},
   "source": [
    "____________"
   ]
  },
  {
   "cell_type": "markdown",
   "metadata": {},
   "source": [
    "Task 2. Counting islands"
   ]
  },
  {
   "cell_type": "code",
   "execution_count": 40,
   "metadata": {},
   "outputs": [
    {
     "name": "stdout",
     "output_type": "stream",
     "text": [
      "Input: [[0, 1, 0], [0, 0, 0], [0, 1, 1]]\n",
      "Output: 2\n",
      "\n",
      "\n",
      "Input: [[0, 0, 0, 1], [0, 0, 1, 0], [0, 1, 0, 0]]\n",
      "Output: 3\n",
      "\n",
      "\n",
      "Input: [[0, 0, 0, 1], [0, 0, 1, 1], [0, 1, 0, 1]]\n",
      "Output: 2\n",
      "\n",
      "\n"
     ]
    }
   ],
   "source": [
    "import numpy as np\n",
    "import numpy.typing as npt\n",
    "from scipy import ndimage\n",
    "\n",
    "def count_islands(input_data: npt.ArrayLike) -> int:\n",
    "    \"\"\"\n",
    "    Calculates number of \"islands\" of non-zero values in matrix, connected vertically or horizontally.\n",
    "    \"\"\"\n",
    "    arr = np.array(input_data)\n",
    "    _, num_islands = ndimage.label(arr)\n",
    "    return num_islands\n",
    "\n",
    "\n"
   ]
  },
  {
   "cell_type": "code",
   "execution_count": 45,
   "metadata": {},
   "outputs": [
    {
     "name": "stdout",
     "output_type": "stream",
     "text": [
      "Input: [[0, 1, 0], [0, 0, 0], [0, 1, 1]]\n",
      "Output: 2\n",
      "\n",
      "\n",
      "Input: [[0, 0, 0, 1], [0, 0, 1, 0], [0, 1, 0, 0]]\n",
      "Output: 3\n",
      "\n",
      "\n",
      "Input: [[0, 0, 0, 1], [1, 0, 1, 1], [0, 1, 0, 1]]\n",
      "Output: 3\n",
      "\n",
      "\n",
      "[2, 3, 3]\n"
     ]
    },
    {
     "ename": "AssertionError",
     "evalue": "Outputs differ from expected, got: [2, 3, 3]",
     "output_type": "error",
     "traceback": [
      "\u001b[0;31m---------------------------------------------------------------------------\u001b[0m",
      "\u001b[0;31mAssertionError\u001b[0m                            Traceback (most recent call last)",
      "\u001b[1;32m/home/jr/Dokumenty/quantum_recruitment/Test Tesk_Internship/Quantum internship/recruitment_tasks.ipynb Komórka 7\u001b[0m in \u001b[0;36m<cell line: 15>\u001b[0;34m()\u001b[0m\n\u001b[1;32m     <a href='vscode-notebook-cell:/home/jr/Dokumenty/quantum_recruitment/Test%20Tesk_Internship/Quantum%20internship/recruitment_tasks.ipynb#X12sZmlsZQ%3D%3D?line=12'>13</a>\u001b[0m     \u001b[39mprint\u001b[39m(\u001b[39m\"\u001b[39m\u001b[39m\\n\u001b[39;00m\u001b[39m\"\u001b[39m)\n\u001b[1;32m     <a href='vscode-notebook-cell:/home/jr/Dokumenty/quantum_recruitment/Test%20Tesk_Internship/Quantum%20internship/recruitment_tasks.ipynb#X12sZmlsZQ%3D%3D?line=13'>14</a>\u001b[0m \u001b[39mprint\u001b[39m(outputs)\n\u001b[0;32m---> <a href='vscode-notebook-cell:/home/jr/Dokumenty/quantum_recruitment/Test%20Tesk_Internship/Quantum%20internship/recruitment_tasks.ipynb#X12sZmlsZQ%3D%3D?line=14'>15</a>\u001b[0m \u001b[39massert\u001b[39;00m outputs \u001b[39m==\u001b[39m [\u001b[39m2\u001b[39m, \u001b[39m3\u001b[39m , \u001b[39m2\u001b[39m], \u001b[39mf\u001b[39m\u001b[39m\"\u001b[39m\u001b[39mOutputs differ from expected, got: \u001b[39m\u001b[39m{\u001b[39;00moutputs\u001b[39m}\u001b[39;00m\u001b[39m\"\u001b[39m\n",
      "\u001b[0;31mAssertionError\u001b[0m: Outputs differ from expected, got: [2, 3, 3]"
     ]
    }
   ],
   "source": [
    "# checking given examples of inputs and outputs\n",
    "\n",
    "input_1 = [[0, 1, 0], [0, 0, 0], [0, 1, 1]]\n",
    "input_2 = [[0, 0, 0, 1], [0, 0, 1, 0], [0, 1, 0, 0]]\n",
    "input_3 = [[0, 0, 0, 1], [1, 0, 1, 1], [0, 1, 0, 1]]\n",
    "\n",
    "inputs = [input_1, input_2, input_3]\n",
    "outputs = []\n",
    "for i, input in enumerate(inputs):\n",
    "    outputs.append(count_islands(input))\n",
    "    print(f\"Input: {input}\")\n",
    "    print(f\"Output: {outputs[i]}\")\n",
    "    print(\"\\n\")\n",
    "print(outputs)\n"
   ]
  },
  {
   "cell_type": "code",
   "execution_count": null,
   "metadata": {},
   "outputs": [],
   "source": []
  }
 ],
 "metadata": {
  "kernelspec": {
   "display_name": "Python 3.8.13 ('ml')",
   "language": "python",
   "name": "python3"
  },
  "language_info": {
   "codemirror_mode": {
    "name": "ipython",
    "version": 3
   },
   "file_extension": ".py",
   "mimetype": "text/x-python",
   "name": "python",
   "nbconvert_exporter": "python",
   "pygments_lexer": "ipython3",
   "version": "3.8.13"
  },
  "orig_nbformat": 4,
  "vscode": {
   "interpreter": {
    "hash": "ed6650e8bde217ae58e5018109992b12051aa17b28c032d93318689d14aaa242"
   }
  }
 },
 "nbformat": 4,
 "nbformat_minor": 2
}
